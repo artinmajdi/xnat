{
 "cells": [
  {
   "cell_type": "code",
   "execution_count": 1,
   "metadata": {},
   "outputs": [],
   "source": [
    "# import monai\n",
    "import pydicom\n",
    "import pathlib\n",
    "from glob import glob\n",
    "import matplotlib.pyplot as plt"
   ]
  },
  {
   "attachments": {},
   "cell_type": "markdown",
   "metadata": {},
   "source": [
    "# Getting the list of dicom images"
   ]
  },
  {
   "cell_type": "code",
   "execution_count": 12,
   "metadata": {},
   "outputs": [],
   "source": [
    "project_ID = 'project'\n",
    "experiment_ID = 'LUNG1-001'\n",
    "scan_ID = '0'\n",
    "\n",
    "if mode == 'local':\n",
    "    path = pathlib.Path(f'xnat-data/archive/{project_ID}/arc001/{experiment_ID}/SCANS/{scan_ID}/DICOM/').absolute()\n",
    "else:\n",
    "    path = pathlib.Path(f'/data/projects/{project_ID}/experiments/{experiment_ID}/SCANS/{scan_ID}/DICOM/').absolute()\n",
    "\n",
    "files = list(path.glob('*.dcm'))\n",
    "# files"
   ]
  },
  {
   "attachments": {},
   "cell_type": "markdown",
   "metadata": {},
   "source": [
    "# Connecting to XNAT's REST API "
   ]
  },
  {
   "cell_type": "code",
   "execution_count": 20,
   "metadata": {},
   "outputs": [],
   "source": [
    "import pyxnat\n",
    "interface = pyxnat.Interface(server='https://biral.radiologics.com', user='amajdi')\n",
    "# interface = pyxnat.Interface(server='http://xnat.datascience.arizona.edu', user='artin')"
   ]
  },
  {
   "attachments": {},
   "cell_type": "markdown",
   "metadata": {},
   "source": [
    "## setting the project"
   ]
  },
  {
   "cell_type": "code",
   "execution_count": 26,
   "metadata": {},
   "outputs": [
    {
     "name": "stdout",
     "output_type": "stream",
     "text": [
      "projects_list: [<Project Object> RADPERF `RADPERF` (protected) 0 subject 1 MR experiment (owner: beholtAdmin) (created on 2021-02-22 13:35:39.931) https://biral.radiologics.com/data/projects/RADPERF?format=html, <Project Object> RADPERF2 `RADPERF2` (protected) 0 subject  (owner: beholtAdmin) (created on 2021-02-22 13:40:10.743) https://biral.radiologics.com/data/projects/RADPERF2?format=html, <Project Object> PACSR001 `Reduction in unnecessary diagnostic imaging exam for lung cancer` (private) 2893 subjects 3908 CT experiments (owner: bobbyAdmin/ctp) (created on 2022-09-12 15:44:34.915) https://biral.radiologics.com/data/projects/PACSR001?format=html, <Project Object> prj_test `test` (public) 0 subject  (owner: amajdi) (created on 2023-01-24 16:04:05.35) https://biral.radiologics.com/data/projects/prj_test?format=html]\n"
     ]
    },
    {
     "data": {
      "text/plain": [
       "True"
      ]
     },
     "execution_count": 26,
     "metadata": {},
     "output_type": "execute_result"
    }
   ],
   "source": [
    "projects_list = list(interface.select.projects())\n",
    "print('projects_list:', projects_list)\n",
    "\n",
    "\n",
    "project.exists()"
   ]
  },
  {
   "cell_type": "code",
   "execution_count": 35,
   "metadata": {},
   "outputs": [],
   "source": [
    "project_ID = 'PACSR001'\n",
    "project = interface.select.project(project_ID)\n",
    "\n",
    "ct_scans = []\n",
    "\n",
    "for subject_ID in project.subjects().get():\n",
    "    subject = project.subject(subject_ID)\n",
    "\n",
    "    for experiment_ID in subject.experiments().get():\n",
    "        experiment = interface.select.experiment(experiment_ID)\n",
    "\n",
    "        for scan_ID in experiment.scans().get():\n",
    "            if experiment.attrs.get('xnat:imageSessionData/TYPE') == 'CT':\n",
    "                ct_scans.append(experiment)\n",
    "\n",
    "    break"
   ]
  },
  {
   "cell_type": "code",
   "execution_count": 49,
   "metadata": {},
   "outputs": [
    {
     "name": "stdout",
     "output_type": "stream",
     "text": [
      "Error querying XNAT: 401\n"
     ]
    }
   ],
   "source": [
    "import os\n",
    "import requests\n",
    "from xml.etree import ElementTree as ET\n",
    "\n",
    "# XNAT server, credentials, and output directory\n",
    "xnat_url = 'https://biral.radiologics.com'\n",
    "username = 'amajdi'\n",
    "password = 'password!'\n",
    "output_dir = '/media/XenialETF4/artin'\n",
    "\n",
    "# Read the XML query file\n",
    "with open('biral.xnat.xml', 'r') as f:\n",
    "    query_xml = f.read()\n",
    "\n",
    "# Authenticate with XNAT\n",
    "session = requests.Session()\n",
    "session.auth = (username, password)\n",
    "\n",
    "# Send the XML query to XNAT's REST API\n",
    "response = session.post(f'{xnat_url}/data/search', data=query_xml, headers={'Content-Type': 'application/xml'})\n",
    "\n",
    "# Check if the request was successful\n",
    "if response.status_code == 200:\n",
    "    # Parse the XML response\n",
    "    root = ET.fromstring(response.text)\n",
    "\n",
    "    # Iterate through the results and download the images\n",
    "    for result in root.findall('.//xnat:MRSession', namespaces=root.nsmap):\n",
    "        project_id = result.get('project')\n",
    "        subject_id = result.get('subject_ID')\n",
    "        experiment_id = result.get('ID')\n",
    "\n",
    "        # Create a directory structure: project/subject/experiment\n",
    "        download_path = f'{output_dir}/{project_id}/{subject_id}/{experiment_id}'\n",
    "        os.makedirs(download_path, exist_ok=True)\n",
    "\n",
    "        # Download the images in NIfTI format, if available\n",
    "        response = session.get(f'{xnat_url}/data/experiments/{experiment_id}/scans/ALL/files?format=NIFTI', stream=True)\n",
    "\n",
    "        # Check if the request was successful\n",
    "        if response.status_code == 200:\n",
    "            # Save the downloaded images as a ZIP file\n",
    "            with open(f'{download_path}/images.zip', 'wb') as f:\n",
    "                for chunk in response.iter_content(chunk_size=8192):\n",
    "                    f.write(chunk)\n",
    "        else:\n",
    "            print(f'Error downloading images for experiment {experiment_id}: {response.status_code}')\n",
    "else:\n",
    "    print(f'Error querying XNAT: {response.status_code}')\n",
    "\n",
    "# Close the session\n",
    "session.close()\n"
   ]
  },
  {
   "cell_type": "code",
   "execution_count": null,
   "metadata": {},
   "outputs": [],
   "source": []
  },
  {
   "cell_type": "code",
   "execution_count": null,
   "metadata": {},
   "outputs": [],
   "source": []
  }
 ],
 "metadata": {
  "kernelspec": {
   "display_name": "xnat",
   "language": "python",
   "name": "python3"
  },
  "language_info": {
   "codemirror_mode": {
    "name": "ipython",
    "version": 3
   },
   "file_extension": ".py",
   "mimetype": "text/x-python",
   "name": "python",
   "nbconvert_exporter": "python",
   "pygments_lexer": "ipython3",
   "version": "3.9.16"
  },
  "orig_nbformat": 4
 },
 "nbformat": 4,
 "nbformat_minor": 2
}
